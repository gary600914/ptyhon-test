{
 "cells": [
  {
   "cell_type": "code",
   "execution_count": null,
   "metadata": {},
   "outputs": [],
   "source": [
    "class BMI:\n",
    "    def __init__(self, name, weight, height):\n",
    "        self.name = name\n",
    "        self.weight = weight\n",
    "        self.height = height\n",
    "\n",
    "    @property\n",
    "    def bmi(self):\n",
    "        return self.weight / (self.height / 100) ** 2\n",
    "\n",
    "    def status(self):\n",
    "        bmi_value = self.bmi\n",
    "        if bmi_value < 18.5:\n",
    "            return \"體重過輕\"\n",
    "        elif 18.5 <= bmi_value < 24:\n",
    "            return \"正常範圍\"\n",
    "        elif 24 <= bmi_value < 27:\n",
    "            return \"體重過重\"\n",
    "        elif 27 <= bmi_value < 30:\n",
    "            return \"輕度肥胖\"\n",
    "        elif 30 <= bmi_value < 35:\n",
    "            return \"中度肥胖\"\n",
    "        else:\n",
    "            return \"重度肥胖\"\n",
    "\n",
    "def main():\n",
    "    name = input(\"請輸入姓名: \")\n",
    "    weight = float(input(\"請輸入體重(公斤): \"))\n",
    "    height = float(input(\"請輸入身高(公分): \"))\n",
    "\n",
    "    person = BMI(name, weight, height)\n",
    "    print(f\"{person.name}您好, BMI: {person.bmi:.2f}, 體重: {person.status()}\")\n",
    "\n",
    "if __name__ == \"__main__\":\n",
    "    main()\n"
   ]
  }
 ],
 "metadata": {
  "language_info": {
   "name": "python"
  }
 },
 "nbformat": 4,
 "nbformat_minor": 2
}
