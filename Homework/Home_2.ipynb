{
 "cells": [
  {
   "cell_type": "code",
   "execution_count": 1,
   "metadata": {},
   "outputs": [
    {
     "name": "stdout",
     "output_type": "stream",
     "text": [
      "AAA的 BMI 值為: 34.20\n",
      "健康狀況: 中度肥胖\n"
     ]
    }
   ],
   "source": [
    "class BMI:\n",
    "    def __init__(self, name, weight, height):\n",
    "        self.name = name\n",
    "        self.weight = weight\n",
    "        self.height = height\n",
    "\n",
    "    @property\n",
    "    def bmi(self):\n",
    "        return self.weight / (self.height / 100) ** 2\n",
    "\n",
    "    def status(self):\n",
    "        bmi_value = self.bmi\n",
    "        if bmi_value < 18.5:\n",
    "            return \"體重過輕\"\n",
    "        elif 18.5 <= bmi_value < 24:\n",
    "            return \"正常範圍\"\n",
    "        elif 24 <= bmi_value < 27:\n",
    "            return \"體重過重\"\n",
    "        elif 27 <= bmi_value < 30:\n",
    "            return \"輕度肥胖\"\n",
    "        elif 30 <= bmi_value < 35:\n",
    "            return \"中度肥胖\"\n",
    "        else:\n",
    "            return \"重度肥胖\"\n",
    "\n",
    "def main():\n",
    "    name = input(\"請輸入姓名: \")\n",
    "    weight = float(input(\"請輸入體重(公斤): \"))\n",
    "    height = float(input(\"請輸入身高(公分): \"))\n",
    "\n",
    "    person = BMI(name, weight, height)\n",
    "    print(f\"{person.name}的 BMI 值為: {person.bmi:.2f}\")\n",
    "    print(f\"健康狀況: {person.status()}\")\n",
    "\n",
    "if __name__ == \"__main__\":\n",
    "    main()\n"
   ]
  },
  {
   "cell_type": "code",
   "execution_count": 3,
   "metadata": {},
   "outputs": [
    {
     "name": "stdout",
     "output_type": "stream",
     "text": [
      "您的BMI為中度肥胖, 肥胖容易引起疾病，您得要多多注意自己的健康囉！\n",
      "您的大名是:AAA\n",
      "您的身高是:171.0\n",
      "您的體重是:100.0\n",
      "您計算出的BMI為:34.2\n"
     ]
    }
   ],
   "source": [
    "class Name():\n",
    "    def __init__(self,n:str):\n",
    "        self.name = n\n",
    "\n",
    "class BMI(Name):\n",
    "    def __init__(self, name: str, height: float, weight: float):\n",
    "        super().__init__(name)\n",
    "        self.height = height\n",
    "        self.weight = weight\n",
    "    \n",
    "    @property\n",
    "    def h1(self) -> float:\n",
    "        return (self.height/100) ** 2\n",
    "    \n",
    "    def w1(self) -> float:\n",
    "        return self.weight\n",
    "    \n",
    "    def sum(self) -> float:\n",
    "        return round(self.w1() / self.h1, ndigits=2)\n",
    "\n",
    "    def __repr__(self):\n",
    "        return f\"您的大名是:{self.name}\\n您的身高是:{self.height}\\n您的體重是:{self.weight}\"\n",
    "\n",
    "try:\n",
    "    n1 = BMI(str(input(\"請輸入姓名:\")), float(input(\"請輸入身高:\")), float(input(\"請輸入體重:\")))\n",
    "    bmi = n1.sum()   \n",
    "\n",
    "except ValueError as e:  \n",
    "    print(\"輸入格式錯誤，程式直接結束:\", e)\n",
    "    n1 = None                 #確保後續不會使用未正確初始化的 n1\n",
    "except Exception as e:\n",
    "    print(\"輸入格式錯誤，程式直接結束:\", e)\n",
    "    n1 = None\n",
    "else:    \n",
    "    if bmi < 18.5:\n",
    "        print(\"您的BMI為體重過輕, 你需要再吃營養些，讓自己重一些！\")\n",
    "    elif bmi >= 18.5 and bmi < 24:\n",
    "        print(\"您的BMI為健康體位, 很不錯喔，很標準，請您繼續保持！\")\n",
    "    elif bmi >= 24 and bmi < 27:\n",
    "        print(\"您的BMI為過重, 您得控制一下飲食了，請加油！\")\n",
    "    elif bmi >= 27 and bmi < 30:\n",
    "        print(\"您的BMI為輕度肥胖, 肥胖容易引起疾病，您得要多多注意自己的健康囉！\")\n",
    "    elif bmi >= 30 and bmi < 35:\n",
    "        print(\"您的BMI為中度肥胖, 肥胖容易引起疾病，您得要多多注意自己的健康囉！\")\n",
    "    else:\n",
    "        print(\"您的BMI為重度肥胖, 肥胖容易引起疾病，您得要多多注意自己的健康囉！\")\n",
    "\n",
    "print(n1)\n",
    "print(f\"您計算出的BMI為:{n1.sum()}\")"
   ]
  }
 ],
 "metadata": {
  "kernelspec": {
   "display_name": "Python 3",
   "language": "python",
   "name": "python3"
  },
  "language_info": {
   "codemirror_mode": {
    "name": "ipython",
    "version": 3
   },
   "file_extension": ".py",
   "mimetype": "text/x-python",
   "name": "python",
   "nbconvert_exporter": "python",
   "pygments_lexer": "ipython3",
   "version": "3.10.13"
  }
 },
 "nbformat": 4,
 "nbformat_minor": 2
}
